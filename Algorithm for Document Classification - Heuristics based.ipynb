{
 "cells": [
  {
   "cell_type": "code",
   "execution_count": 32,
   "metadata": {},
   "outputs": [],
   "source": [
    "import pytesseract\n",
    "from PIL import Image\n",
    "from skimage.io import imread\n",
    "\n",
    "# sample 1: classify different type of pan cards\n",
    "\n",
    "image = imread('resources/dummy_pans/pan_old/oAbbot_Mcintyre.jpg')\n",
    "to_search = ['S','i','g','n','a','t','u','r','e']\n",
    "\n",
    "def classification_label(image, to_search):\n",
    "    bboxes = pytesseract.image_to_boxes(image, output_type='dict')\n",
    "    r = image.shape[0]\n",
    "    c = image.shape[1]\n",
    "\n",
    "    chars = bboxes['char']\n",
    "    found_at = -1\n",
    "    search_string_found = '0' #0 means not found, 1 means found\n",
    "    for index, character in enumerate(chars):\n",
    "        if character == to_search[0] and chars[index + 1] == to_search[1]:\n",
    "            #run the search\n",
    "            matched = 2 # already found 2\n",
    "            for search_index in range(2, len(to_search)):\n",
    "                if chars[index + search_index] == to_search[search_index]:\n",
    "                    matched += 1\n",
    "            if matched == len(to_search):\n",
    "                found_at = index\n",
    "                search_string_found = '1'\n",
    "                break\n",
    "                \n",
    "    # divide the image into 16 parts and find in which part the signature is present.\n",
    "    region_where_found = -1\n",
    "    if found_at > -1:\n",
    "        char_location_left = bboxes['left'][found_at]\n",
    "        char_location_top = r-bboxes['top'][found_at]\n",
    "        divider = 4    \n",
    "        region_index = -1\n",
    "        for ri in range(divider):\n",
    "            for ci in range(divider):\n",
    "                region_index+=1\n",
    "                rmin = int((ri/divider)*r)\n",
    "                rmax = int((ri/divider+1/divider)*r)\n",
    "                cmin = int((ci/divider)*c)\n",
    "                cmax = int((ci/divider+1/divider)*c)\n",
    "                if char_location_top > rmin and char_location_top < rmax and char_location_left > cmin and char_location_left < cmax:\n",
    "                    region_where_found = region_index\n",
    "                    break  \n",
    "                    \n",
    "    return search_string_found + str(region_where_found)"
   ]
  },
  {
   "cell_type": "code",
   "execution_count": 33,
   "metadata": {},
   "outputs": [
    {
     "data": {
      "text/plain": [
       "'112'"
      ]
     },
     "execution_count": 33,
     "metadata": {},
     "output_type": "execute_result"
    }
   ],
   "source": [
    "classification_label(image, to_search)"
   ]
  },
  {
   "cell_type": "code",
   "execution_count": 35,
   "metadata": {},
   "outputs": [
    {
     "name": "stdout",
     "output_type": "stream",
     "text": [
      "{'0-1': ['Pede_Blandit_Congue_Corporation.jpg', 'Vivamus_Non_Lorem_Consulting.jpg', 'Ullamcorper_Velit_In_Industries.jpg', 'Ligula_Associates.jpg', 'Vestibulum_Foundation.jpg', 'Rutrum_Magna_Cras_LLP.jpg', 'At_Egestas_A_Ltd.jpg', 'Nam_Ac_Ltd.jpg', 'Turpis_Egestas_Foundation.jpg', 'Nisi_Dictum_Augue_Inc..jpg', 'Lectus_Ante_Dictum_LLC.jpg', 'Scelerisque_Sed_Sapien_Limited.jpg', 'Sollicitudin_A_Company.jpg', 'Pellentesque_Pede_Blandit_Corporation.jpg', 'Magna_Malesuada_Foundation.jpg', 'Proin_Sed_Institute.jpg', 'Et_Arcu_Company.jpg', 'Tellus_Non_Magna_Inc..jpg', 'Lacinia_Mattis_Integer_Ltd.jpg', 'Aliquam_Ultrices_LLC.jpg']}\n"
     ]
    }
   ],
   "source": [
    "from os import listdir\n",
    "from os.path import isfile, join\n",
    "import os  \n",
    "\n",
    "mypath = '/Users/muthukrishnan/programming/ml_research/resources/dummy_pans/company'\n",
    "onlyfiles = [f for f in listdir(mypath) if isfile(join(mypath, f))]\n",
    "\n",
    "groups = {}\n",
    "for file in onlyfiles[0:20]:\n",
    "    try:\n",
    "        label = classification_label(imread(join(mypath, file)), to_search)\n",
    "        if label not in groups:\n",
    "            groups[label] = []\n",
    "        groups[label].append(file)\n",
    "    except:\n",
    "        print(file)\n",
    "        \n",
    "print(groups)"
   ]
  },
  {
   "cell_type": "code",
   "execution_count": null,
   "metadata": {},
   "outputs": [],
   "source": []
  }
 ],
 "metadata": {
  "kernelspec": {
   "display_name": "Python 3",
   "language": "python",
   "name": "python3"
  },
  "language_info": {
   "codemirror_mode": {
    "name": "ipython",
    "version": 3
   },
   "file_extension": ".py",
   "mimetype": "text/x-python",
   "name": "python",
   "nbconvert_exporter": "python",
   "pygments_lexer": "ipython3",
   "version": "3.7.3"
  }
 },
 "nbformat": 4,
 "nbformat_minor": 2
}
