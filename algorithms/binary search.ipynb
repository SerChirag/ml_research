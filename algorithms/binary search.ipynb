{
 "cells": [
  {
   "cell_type": "code",
   "execution_count": 12,
   "metadata": {},
   "outputs": [
    {
     "data": {
      "text/plain": [
       "(True, 1)"
      ]
     },
     "execution_count": 12,
     "metadata": {},
     "output_type": "execute_result"
    }
   ],
   "source": [
    "def binary_search(array, num):\n",
    "    if len(array) == 0:\n",
    "        return False\n",
    "    \n",
    "    mid = len(array)//2\n",
    "    if array[mid] == num:\n",
    "        return True\n",
    "    \n",
    "    if num < array[mid]:\n",
    "        return binary_search(array[:mid], num)\n",
    "    \n",
    "    return binary_search(array[mid+1:], num)\n",
    "    \n",
    "binary_search([1,2,3,4,5,6,7,8,9], 7)"
   ]
  },
  {
   "cell_type": "code",
   "execution_count": null,
   "metadata": {},
   "outputs": [],
   "source": []
  }
 ],
 "metadata": {
  "kernelspec": {
   "display_name": "Python 3",
   "language": "python",
   "name": "python3"
  },
  "language_info": {
   "codemirror_mode": {
    "name": "ipython",
    "version": 3
   },
   "file_extension": ".py",
   "mimetype": "text/x-python",
   "name": "python",
   "nbconvert_exporter": "python",
   "pygments_lexer": "ipython3",
   "version": "3.7.3"
  }
 },
 "nbformat": 4,
 "nbformat_minor": 2
}
