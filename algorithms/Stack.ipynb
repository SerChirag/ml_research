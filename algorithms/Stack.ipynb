{
 "cells": [
  {
   "cell_type": "code",
   "execution_count": 1,
   "metadata": {},
   "outputs": [],
   "source": [
    "import numpy as np\n",
    "\n",
    "class Stack:\n",
    "    def __init__(self, max_size=10):\n",
    "        self.array = []\n",
    "        self.max_size = max_size\n",
    "        self.stack_size = 0 # so i dont need to calculate this everytime.\n",
    "        \n",
    "    def push(self, element):\n",
    "        if self.stack_size == self.max_size:\n",
    "            print(\"stack overflow, can't add more.\")\n",
    "            return\n",
    "            \n",
    "        self.array.append(element)\n",
    "        self.stack_size += 1\n",
    "        print(\"element added:\", self.array)\n",
    "        \n",
    "    def pop(self):\n",
    "        if self.stack_size == 0:\n",
    "            print(\"stack is empty\")\n",
    "            return \n",
    "        del self.array[-1]\n",
    "        # self.array.pop() #can use this also\n",
    "        self.stack_size -= 1\n",
    "        print(\"element removed:\", self.array)\n",
    "        \n",
    "    def size(self):\n",
    "        print(\"size of the stack:\", self.stack_size)\n",
    "        return self.stack_size\n",
    "    \n",
    "    def is_empty(self):\n",
    "        return self.stack_size == 0"
   ]
  },
  {
   "cell_type": "code",
   "execution_count": 2,
   "metadata": {},
   "outputs": [],
   "source": [
    "s = Stack()"
   ]
  },
  {
   "cell_type": "code",
   "execution_count": 3,
   "metadata": {},
   "outputs": [
    {
     "name": "stdout",
     "output_type": "stream",
     "text": [
      "trying push operations.\n",
      "element added: [0]\n",
      "element added: [0, 1]\n",
      "element added: [0, 1, 2]\n",
      "element added: [0, 1, 2, 3]\n",
      "element added: [0, 1, 2, 3, 4]\n",
      "element added: [0, 1, 2, 3, 4, 5]\n",
      "element added: [0, 1, 2, 3, 4, 5, 6]\n",
      "element added: [0, 1, 2, 3, 4, 5, 6, 7]\n",
      "element added: [0, 1, 2, 3, 4, 5, 6, 7, 8]\n",
      "element added: [0, 1, 2, 3, 4, 5, 6, 7, 8, 9]\n",
      "stack overflow, can't add more.\n",
      "stack overflow, can't add more.\n",
      "trying pop operations.\n",
      "element removed: [0, 1, 2, 3, 4, 5, 6, 7, 8]\n",
      "element removed: [0, 1, 2, 3, 4, 5, 6, 7]\n",
      "element removed: [0, 1, 2, 3, 4, 5, 6]\n",
      "element removed: [0, 1, 2, 3, 4, 5]\n",
      "element removed: [0, 1, 2, 3, 4]\n",
      "element removed: [0, 1, 2, 3]\n",
      "element removed: [0, 1, 2]\n",
      "element removed: [0, 1]\n",
      "element removed: [0]\n",
      "element removed: []\n",
      "stack is empty\n",
      "stack is empty\n"
     ]
    }
   ],
   "source": [
    "print(\"trying push operations.\")\n",
    "for i in range(12):\n",
    "    s.push(i)\n",
    "    \n",
    "print(\"trying pop operations.\")\n",
    "for i in range(12):\n",
    "    s.pop()"
   ]
  },
  {
   "cell_type": "code",
   "execution_count": null,
   "metadata": {},
   "outputs": [],
   "source": []
  },
  {
   "cell_type": "markdown",
   "metadata": {},
   "source": [
    "## Application of stack\n",
    "check if the paranthesis is balanced or not.  ex: (()) -> balanced. ((()) # not balanced."
   ]
  },
  {
   "cell_type": "code",
   "execution_count": 4,
   "metadata": {},
   "outputs": [],
   "source": [
    "class ParanthesisStack(Stack): #inheritance\n",
    "    def __init__(self, max_size=100):\n",
    "        super().__init__(max_size) #calling super class constructor\n",
    "        print(\"stack created\")\n",
    "        \n",
    "    def is_balanced(self, equation):\n",
    "        for i in equation:\n",
    "            if i == '(':\n",
    "                self.push(i)\n",
    "            elif i == ')':\n",
    "                if self.is_empty():\n",
    "                    print(\"its not balanced.\")\n",
    "                    return\n",
    "                \n",
    "                self.pop()\n",
    "                \n",
    "        if self.is_empty():\n",
    "            print(\"its balanced.\")\n",
    "        else:\n",
    "            print(\"its not balanced.\")"
   ]
  },
  {
   "cell_type": "code",
   "execution_count": 5,
   "metadata": {},
   "outputs": [
    {
     "name": "stdout",
     "output_type": "stream",
     "text": [
      "stack created\n"
     ]
    }
   ],
   "source": [
    "p = ParanthesisStack()"
   ]
  },
  {
   "cell_type": "code",
   "execution_count": 6,
   "metadata": {},
   "outputs": [
    {
     "name": "stdout",
     "output_type": "stream",
     "text": [
      "element added: ['(']\n",
      "element removed: []\n",
      "element added: ['(']\n",
      "element removed: []\n",
      "element added: ['(']\n",
      "element added: ['(', '(']\n",
      "element removed: ['(']\n",
      "element removed: []\n",
      "its not balanced.\n"
     ]
    }
   ],
   "source": [
    "p.is_balanced(\"(5+4)*(6-4)*((1+1))*1)+1))\")"
   ]
  }
 ],
 "metadata": {
  "kernelspec": {
   "display_name": "Python 3",
   "language": "python",
   "name": "python3"
  },
  "language_info": {
   "codemirror_mode": {
    "name": "ipython",
    "version": 3
   },
   "file_extension": ".py",
   "mimetype": "text/x-python",
   "name": "python",
   "nbconvert_exporter": "python",
   "pygments_lexer": "ipython3",
   "version": "3.7.3"
  }
 },
 "nbformat": 4,
 "nbformat_minor": 2
}
