{
 "cells": [
  {
   "cell_type": "code",
   "execution_count": 1,
   "metadata": {},
   "outputs": [],
   "source": [
    "import numpy as np\n",
    "\n",
    "# representing a node in tree\n",
    "class Node:    \n",
    "    def __init__(self, value):\n",
    "        self.value = value\n",
    "        self.left = None\n",
    "        self.right = None     \n",
    "\n",
    "def insert(root, node):\n",
    "    if root is None:\n",
    "        root = node\n",
    "    elif root.value > node.value:\n",
    "        if root.left is None:\n",
    "            root.left = node\n",
    "        else:\n",
    "            insert(root.left, node)\n",
    "    elif root.value < node.value:\n",
    "        if root.right is None:\n",
    "            root.right = node\n",
    "        else:\n",
    "            insert(root.right, node)"
   ]
  },
  {
   "cell_type": "code",
   "execution_count": 5,
   "metadata": {},
   "outputs": [
    {
     "name": "stdout",
     "output_type": "stream",
     "text": [
      "sample [0.80684899 0.4344936  0.43296767 0.11084256 0.12647377 0.34888836\n",
      " 0.19603822 0.65787554 0.11492628 0.81702441]\n"
     ]
    }
   ],
   "source": [
    "#create the tree\n",
    "sample = np.random.rand(10)\n",
    "print(\"sample\", sample)\n",
    "\n",
    "root = Node(sample[0]) # first element as root\n",
    "\n",
    "#insert the remaining now.\n",
    "for i in range(1, len(sample)):\n",
    "    insert(root, Node(sample[i]))"
   ]
  },
  {
   "cell_type": "code",
   "execution_count": 18,
   "metadata": {},
   "outputs": [
    {
     "name": "stdout",
     "output_type": "stream",
     "text": [
      "\n",
      "          0.8170244092063316\n",
      "\n",
      "0.8068489912714659\n",
      "\n",
      "                    0.6578755448485376\n",
      "\n",
      "          0.4344936027681183\n",
      "\n",
      "                    0.4329676703912494\n",
      "\n",
      "                                                  0.34888836179750615\n",
      "\n",
      "                                                            0.19603821818910228\n",
      "\n",
      "                                        0.126473770474954\n",
      "\n",
      "                                                  0.11492628451241849\n",
      "\n",
      "                              0.11084255945430421\n"
     ]
    }
   ],
   "source": [
    "# Function to print binary tree in 2D  \n",
    "# It does reverse inorder traversal  \n",
    "# https://www.geeksforgeeks.org/print-binary-tree-2-dimensions/\n",
    "COUNT = [10]\n",
    "\n",
    "def print2DUtil(root, space) : \n",
    "  \n",
    "    # Base case  \n",
    "    if (root == None) : \n",
    "        return\n",
    "  \n",
    "    # Increase distance between levels  \n",
    "    space += COUNT[0] \n",
    "  \n",
    "    # Process right child first  \n",
    "    print2DUtil(root.right, space)  \n",
    "  \n",
    "    # Print current node after space  \n",
    "    # count  \n",
    "    print()  \n",
    "    for i in range(COUNT[0], space): \n",
    "        print(end = \" \")  \n",
    "    print(root.value)  \n",
    "  \n",
    "    # Process left child  \n",
    "    print2DUtil(root.left, space)  \n",
    "    \n",
    "\n",
    "    \n",
    "print2DUtil(root, 0)"
   ]
  },
  {
   "cell_type": "code",
   "execution_count": 15,
   "metadata": {},
   "outputs": [
    {
     "name": "stdout",
     "output_type": "stream",
     "text": [
      "inorder traversal\n",
      "----- 0.11084255945430421\n",
      "------- 0.11492628451241849\n",
      "------ 0.126473770474954\n",
      "-------- 0.19603821818910228\n",
      "------- 0.34888836179750615\n",
      "---- 0.4329676703912494\n",
      "--- 0.4344936027681183\n",
      "---- 0.6578755448485376\n",
      "-- 0.8068489912714659\n",
      "--- 0.8170244092063316\n",
      "\n",
      "\n",
      "preorder traversal\n",
      "-- 0.8068489912714659\n",
      "----- 0.11084255945430421\n",
      "------- 0.11492628451241849\n",
      "------ 0.126473770474954\n",
      "-------- 0.19603821818910228\n",
      "------- 0.34888836179750615\n",
      "---- 0.4329676703912494\n",
      "--- 0.4344936027681183\n",
      "---- 0.6578755448485376\n",
      "--- 0.8170244092063316\n",
      "\n",
      "\n",
      "postorder traversal\n",
      "----- 0.11084255945430421\n",
      "------- 0.11492628451241849\n",
      "------ 0.126473770474954\n",
      "-------- 0.19603821818910228\n",
      "------- 0.34888836179750615\n",
      "---- 0.4329676703912494\n",
      "--- 0.4344936027681183\n",
      "---- 0.6578755448485376\n",
      "--- 0.8170244092063316\n",
      "-- 0.8068489912714659\n"
     ]
    }
   ],
   "source": [
    "#traversals\n",
    "def pptree(value, depth):\n",
    "    white_spaces = ''\n",
    "    for i in range(depth+2):\n",
    "        white_spaces+='-'\n",
    "    print(white_spaces, value)\n",
    "    \n",
    "def inorder(root, depth): \n",
    "    if root: \n",
    "        inorder(root.left, depth+1)\n",
    "        pptree(root.value, depth)\n",
    "        inorder(root.right, depth+1)\n",
    "\n",
    "def preorder(root, depth): \n",
    "    if root:\n",
    "        pptree(root.value, depth)\n",
    "        inorder(root.left, depth+1)\n",
    "        inorder(root.right, depth+1)\n",
    "        \n",
    "def postorder(root, depth): \n",
    "    if root: \n",
    "        inorder(root.left, depth+1)\n",
    "        inorder(root.right, depth+1)\n",
    "        pptree(root.value, depth)\n",
    "        \n",
    "print(\"inorder traversal\")\n",
    "inorder(root, 0)\n",
    "print(\"\\n\\npreorder traversal\")\n",
    "preorder(root, 0)\n",
    "print(\"\\n\\npostorder traversal\")\n",
    "postorder(root, 0)"
   ]
  },
  {
   "cell_type": "code",
   "execution_count": null,
   "metadata": {},
   "outputs": [],
   "source": [
    "# BFS\n",
    "# BFS algorithm traverses the tree level by level and depth by depth\n"
   ]
  }
 ],
 "metadata": {
  "kernelspec": {
   "display_name": "Python 3",
   "language": "python",
   "name": "python3"
  },
  "language_info": {
   "codemirror_mode": {
    "name": "ipython",
    "version": 3
   },
   "file_extension": ".py",
   "mimetype": "text/x-python",
   "name": "python",
   "nbconvert_exporter": "python",
   "pygments_lexer": "ipython3",
   "version": "3.7.3"
  }
 },
 "nbformat": 4,
 "nbformat_minor": 2
}
