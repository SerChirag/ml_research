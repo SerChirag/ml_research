{
 "cells": [
  {
   "cell_type": "code",
   "execution_count": 11,
   "metadata": {},
   "outputs": [
    {
     "name": "stdout",
     "output_type": "stream",
     "text": [
      "vertices: a c b d e f \n",
      "edges: {'c', 'a'} {'c', 'a'} {'c', 'b'} {'c', 'd'} {'c', 'e'} {'c', 'b'} {'e', 'b'} {'c', 'd'} {'c', 'e'} {'e', 'b'} \n"
     ]
    }
   ],
   "source": [
    "class Graph:\n",
    "    def __init__(self):\n",
    "        self.graph_list = {}\n",
    "        \n",
    "    def add_vertex(self, vertex):\n",
    "        if vertex not in self.graph_list:\n",
    "            self.graph_list[vertex] = []\n",
    "            \n",
    "    def add_edge(self, vertex1, vertex2):\n",
    "        if vertex1 not in self.graph_list:\n",
    "            self.graph_list[vertex1] = []\n",
    "            \n",
    "        if vertex2 not in self.graph_list:\n",
    "            self.graph_list[vertex2] = []\n",
    "            \n",
    "        self.graph_list[vertex2].append(vertex1)\n",
    "        self.graph_list[vertex1].append(vertex2)\n",
    "      \n",
    "    def get_edges(self):\n",
    "        edges = []\n",
    "        for vertex in self.graph_list:\n",
    "            for connected_vertex in self.graph_list[vertex]:\n",
    "                edges.append({vertex, connected_vertex})\n",
    "                \n",
    "        return edges\n",
    "        \n",
    "    def __str__(self):\n",
    "        res = \"vertices: \"\n",
    "        for k in self.graph_list:\n",
    "            res += str(k) + \" \"\n",
    "        res += \"\\nedges: \"\n",
    "        for edge in self.get_edges():\n",
    "            res += str(edge) + \" \"\n",
    "        return res\n",
    "    \n",
    "g = Graph()\n",
    "g.add_edge('a','c')\n",
    "g.add_edge('b','c')\n",
    "g.add_edge('d','c')\n",
    "g.add_edge('e','c')\n",
    "g.add_edge('b','e')\n",
    "g.add_vertex('f')\n",
    "print(g) "
   ]
  },
  {
   "cell_type": "code",
   "execution_count": 12,
   "metadata": {},
   "outputs": [],
   "source": [
    "# find paths between nodes in a graph"
   ]
  },
  {
   "cell_type": "code",
   "execution_count": null,
   "metadata": {},
   "outputs": [],
   "source": []
  }
 ],
 "metadata": {
  "kernelspec": {
   "display_name": "Python 3",
   "language": "python",
   "name": "python3"
  },
  "language_info": {
   "codemirror_mode": {
    "name": "ipython",
    "version": 3
   },
   "file_extension": ".py",
   "mimetype": "text/x-python",
   "name": "python",
   "nbconvert_exporter": "python",
   "pygments_lexer": "ipython3",
   "version": "3.7.3"
  }
 },
 "nbformat": 4,
 "nbformat_minor": 2
}
