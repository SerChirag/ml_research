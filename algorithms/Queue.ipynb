{
 "cells": [
  {
   "cell_type": "code",
   "execution_count": 17,
   "metadata": {},
   "outputs": [],
   "source": [
    "class Queue:\n",
    "    \n",
    "    def __init__(self, max_size=10):\n",
    "        self.max_size = max_size\n",
    "        self.queue_size = 0\n",
    "        self.array = []\n",
    "        \n",
    "    def enqueue(self, element):\n",
    "        if self.queue_full():\n",
    "            print(\"cant add more, queue full.\")\n",
    "            return\n",
    "        \n",
    "        self.array.insert(0, element) # add element at 0\n",
    "        self.queue_size += 1\n",
    "        print(\"Queue contents: \", self.array)\n",
    "        \n",
    "    def queue_full(self):\n",
    "        return self.queue_size == self.max_size\n",
    "    \n",
    "    def queue_empty(self):\n",
    "        return self.queue_size == 0\n",
    "    \n",
    "    def dequeue(self):\n",
    "        if self.queue_empty():\n",
    "            print(\"nothing more to remove. queue empty\")\n",
    "            return\n",
    "        \n",
    "        del self.array[-1]\n",
    "        self.queue_size -= 1\n",
    "        print(\"Queue contents: \", self.array)"
   ]
  },
  {
   "cell_type": "code",
   "execution_count": 18,
   "metadata": {},
   "outputs": [
    {
     "name": "stdout",
     "output_type": "stream",
     "text": [
      "inserting elements into queue\n",
      "Queue contents:  [0]\n",
      "Queue contents:  [1, 0]\n",
      "Queue contents:  [2, 1, 0]\n",
      "Queue contents:  [3, 2, 1, 0]\n",
      "Queue contents:  [4, 3, 2, 1, 0]\n",
      "Queue contents:  [5, 4, 3, 2, 1, 0]\n",
      "Queue contents:  [6, 5, 4, 3, 2, 1, 0]\n",
      "Queue contents:  [7, 6, 5, 4, 3, 2, 1, 0]\n",
      "Queue contents:  [8, 7, 6, 5, 4, 3, 2, 1, 0]\n",
      "Queue contents:  [9, 8, 7, 6, 5, 4, 3, 2, 1, 0]\n",
      "cant add more, queue full.\n",
      "cant add more, queue full.\n",
      "cant add more, queue full.\n",
      "cant add more, queue full.\n",
      "cant add more, queue full.\n",
      "removing elements from queue\n",
      "Queue contents:  [9, 8, 7, 6, 5, 4, 3, 2, 1]\n",
      "Queue contents:  [9, 8, 7, 6, 5, 4, 3, 2]\n",
      "Queue contents:  [9, 8, 7, 6, 5, 4, 3]\n",
      "Queue contents:  [9, 8, 7, 6, 5, 4]\n",
      "Queue contents:  [9, 8, 7, 6, 5]\n",
      "Queue contents:  [9, 8, 7, 6]\n",
      "Queue contents:  [9, 8, 7]\n",
      "Queue contents:  [9, 8]\n",
      "Queue contents:  [9]\n",
      "Queue contents:  []\n",
      "nothing more to remove. queue empty\n",
      "nothing more to remove. queue empty\n",
      "nothing more to remove. queue empty\n",
      "nothing more to remove. queue empty\n",
      "nothing more to remove. queue empty\n"
     ]
    }
   ],
   "source": [
    "q = Queue()\n",
    "\n",
    "print(\"inserting elements into queue\")\n",
    "for i in range(15):\n",
    "    q.enqueue(i)\n",
    "    \n",
    "print(\"removing elements from queue\")\n",
    "for i in range(15):\n",
    "    q.dequeue()"
   ]
  },
  {
   "cell_type": "code",
   "execution_count": null,
   "metadata": {},
   "outputs": [],
   "source": []
  }
 ],
 "metadata": {
  "kernelspec": {
   "display_name": "Python 3",
   "language": "python",
   "name": "python3"
  },
  "language_info": {
   "codemirror_mode": {
    "name": "ipython",
    "version": 3
   },
   "file_extension": ".py",
   "mimetype": "text/x-python",
   "name": "python",
   "nbconvert_exporter": "python",
   "pygments_lexer": "ipython3",
   "version": "3.7.3"
  }
 },
 "nbformat": 4,
 "nbformat_minor": 2
}
