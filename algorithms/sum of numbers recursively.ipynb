{
 "cells": [
  {
   "cell_type": "code",
   "execution_count": 24,
   "metadata": {},
   "outputs": [
    {
     "name": "stdout",
     "output_type": "stream",
     "text": [
      "sample input array: [4 7 0 3 1 0 1 3 3 5]\n",
      "total sum: 27\n"
     ]
    }
   ],
   "source": [
    "# recursive way of finding the sum or elements in an array\n",
    "import numpy as np\n",
    "np.random.seed(1)\n",
    "array = (np.random.rand(10)*10).astype(int)\n",
    "\n",
    "print(\"sample input array:\",array)\n",
    "\n",
    "def sum_of(numbers):\n",
    "    if len(numbers) == 0: # base case\n",
    "        return 0\n",
    "    return numbers[0] + sum_of(numbers[1:])\n",
    "\n",
    "print(\"total sum:\",sum_of(array))"
   ]
  }
 ],
 "metadata": {
  "kernelspec": {
   "display_name": "Python 3",
   "language": "python",
   "name": "python3"
  },
  "language_info": {
   "codemirror_mode": {
    "name": "ipython",
    "version": 3
   },
   "file_extension": ".py",
   "mimetype": "text/x-python",
   "name": "python",
   "nbconvert_exporter": "python",
   "pygments_lexer": "ipython3",
   "version": "3.7.3"
  }
 },
 "nbformat": 4,
 "nbformat_minor": 2
}
