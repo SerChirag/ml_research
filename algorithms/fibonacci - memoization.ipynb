{
 "cells": [
  {
   "cell_type": "code",
   "execution_count": 9,
   "metadata": {},
   "outputs": [
    {
     "name": "stdout",
     "output_type": "stream",
     "text": [
      "sum: 102334155\n",
      "total iterations 331160281\n"
     ]
    }
   ],
   "source": [
    "# naive fibonacci \n",
    "iterations = 0\n",
    "def fib(n):\n",
    "    global iterations\n",
    "    iterations+=1 #keep track of how many times its run\n",
    "    if n == 0:\n",
    "        return 0\n",
    "    elif n == 1:\n",
    "        return 1\n",
    "    else:\n",
    "        #print(\"subroutine: \", (n-1) , (n-2))\n",
    "        return fib(n-1) + fib(n-2)\n",
    "\n",
    "print(\"sum:\", fib(40))\n",
    "print(\"total iterations\", iterations)"
   ]
  },
  {
   "cell_type": "code",
   "execution_count": 10,
   "metadata": {},
   "outputs": [
    {
     "name": "stdout",
     "output_type": "stream",
     "text": [
      "sum: 102334155\n",
      "total iterations 41\n"
     ]
    }
   ],
   "source": [
    "# memoization fibonacci\n",
    "iterations = 0\n",
    "def memoize(f):\n",
    "    memo = {}\n",
    "    def helper(x):\n",
    "        if x not in memo:            \n",
    "            memo[x] = f(x)\n",
    "        return memo[x]\n",
    "    return helper\n",
    "\n",
    "fib = memoize(fib)\n",
    "print(\"sum:\", fib(40))\n",
    "print(\"total iterations\", iterations)"
   ]
  }
 ],
 "metadata": {
  "kernelspec": {
   "display_name": "Python 3",
   "language": "python",
   "name": "python3"
  },
  "language_info": {
   "codemirror_mode": {
    "name": "ipython",
    "version": 3
   },
   "file_extension": ".py",
   "mimetype": "text/x-python",
   "name": "python",
   "nbconvert_exporter": "python",
   "pygments_lexer": "ipython3",
   "version": "3.7.3"
  }
 },
 "nbformat": 4,
 "nbformat_minor": 2
}
