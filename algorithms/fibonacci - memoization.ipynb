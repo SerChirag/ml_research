{
 "cells": [
  {
   "cell_type": "code",
   "execution_count": 28,
   "metadata": {},
   "outputs": [
    {
     "name": "stdout",
     "output_type": "stream",
     "text": [
      "sum: 102334155\n",
      "total iterations 267914295\n"
     ]
    }
   ],
   "source": [
    "# naive fibonacci \n",
    "iterations = 0\n",
    "def fib(n):\n",
    "    global iterations\n",
    "    if n == 0:\n",
    "        return 0\n",
    "    elif n == 1:\n",
    "        iterations+=1\n",
    "        return 1\n",
    "    else:\n",
    "        #print(\"subroutine: \", (n-1) , (n-2))\n",
    "        iterations+=1\n",
    "        return fib(n-1) + fib(n-2)\n",
    "    \n",
    "\n",
    "print(\"sum:\", fib(40))\n",
    "print(\"total iterations\", iterations)"
   ]
  },
  {
   "cell_type": "code",
   "execution_count": 10,
   "metadata": {},
   "outputs": [
    {
     "name": "stdout",
     "output_type": "stream",
     "text": [
      "sum: 102334155\n",
      "total iterations 40\n"
     ]
    }
   ],
   "source": [
    "# memoization fibonacci\n",
    "iterations = 0\n",
    "def memoize(f):\n",
    "    memo = {}\n",
    "    def helper(x):\n",
    "        if x not in memo:            \n",
    "            memo[x] = f(x)\n",
    "        return memo[x]\n",
    "    return helper\n",
    "\n",
    "fib = memoize(fib)\n",
    "print(\"sum:\", fib(40))\n",
    "print(\"total iterations\", iterations)"
   ]
  },
  {
   "cell_type": "code",
   "execution_count": 5,
   "metadata": {},
   "outputs": [
    {
     "name": "stdout",
     "output_type": "stream",
     "text": [
      "sum: 102334155\n",
      "total iterations 40\n"
     ]
    }
   ],
   "source": [
    "# simple for loop\n",
    "iterations = 0\n",
    "def fib(n):\n",
    "    global iterations\n",
    "    new, old = 1, 0\n",
    "    for i in range(n):\n",
    "            new, old = old, new + old\n",
    "            iterations+=1 #keep track of how many times its run\n",
    "    return old\n",
    "print(\"sum:\", fib(40))\n",
    "print(\"total iterations\", iterations)"
   ]
  },
  {
   "cell_type": "code",
   "execution_count": 23,
   "metadata": {},
   "outputs": [
    {
     "name": "stdout",
     "output_type": "stream",
     "text": [
      "102334155\n"
     ]
    }
   ],
   "source": [
    "# matrix based\n",
    "import numpy as np\n",
    "from numpy.linalg import matrix_power\n",
    "\n",
    "def fibmat(n):\n",
    "    i = np.array([[0, 1], [1, 1]])\n",
    "    return np.matmul(matrix_power(i, n), np.array([1, 0]))[1]\n",
    "\n",
    "print(fibmat(40))"
   ]
  },
  {
   "cell_type": "code",
   "execution_count": 27,
   "metadata": {},
   "outputs": [
    {
     "name": "stdout",
     "output_type": "stream",
     "text": [
      "102334155\n",
      "63245986\n"
     ]
    }
   ],
   "source": [
    "def fib(n):\n",
    "    if n%2 == 0:#even\n",
    "        return fib_even(n)\n",
    "    return fib_odd(n)\n",
    "\n",
    "def fib_odd(N):\n",
    "    n = int((N+1)/2)\n",
    "    Fn = fibmat(n) \n",
    "    Fn1 = fibmat(n-1)\n",
    "    return Fn1**2 + Fn**2\n",
    "\n",
    "def fib_even(N):\n",
    "    n = int(N/2)\n",
    "    Fn = fibmat(n) \n",
    "    Fn1 = fibmat(n-1)\n",
    "    return Fn * (2*Fn1 + Fn)\n",
    "\n",
    "print(fib(40)) #op: 102334155\n",
    "print(fib(39)) #op: 63245986"
   ]
  },
  {
   "cell_type": "code",
   "execution_count": null,
   "metadata": {},
   "outputs": [],
   "source": []
  }
 ],
 "metadata": {
  "kernelspec": {
   "display_name": "Python 3",
   "language": "python",
   "name": "python3"
  },
  "language_info": {
   "codemirror_mode": {
    "name": "ipython",
    "version": 3
   },
   "file_extension": ".py",
   "mimetype": "text/x-python",
   "name": "python",
   "nbconvert_exporter": "python",
   "pygments_lexer": "ipython3",
   "version": "3.6.9"
  }
 },
 "nbformat": 4,
 "nbformat_minor": 2
}
